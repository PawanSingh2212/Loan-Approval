{
 "cells": [
  {
   "cell_type": "code",
   "execution_count": 1,
   "id": "645ba1a0-5326-40a0-8734-358bec1f3874",
   "metadata": {},
   "outputs": [],
   "source": [
    "import pandas as pd\n",
    "import numpy as np\n",
    "import matplotlib.pyplot as plt\n",
    "%matplotlib inline \n",
    "from sklearn.model_selection import train_test_split\n",
    "from sklearn.preprocessing import StandardScaler\n",
    "from sklearn.metrics import confusion_matrix, ConfusionMatrixDisplay,accuracy_score, classification_report\n",
    "import xgboost as xgb"
   ]
  },
  {
   "cell_type": "code",
   "execution_count": 2,
   "id": "f11daaa3-4e4a-45a0-84bd-9cf2ee7bff4c",
   "metadata": {},
   "outputs": [],
   "source": [
    "df=pd.read_csv('loan_train.csv')"
   ]
  },
  {
   "cell_type": "code",
   "execution_count": 5,
   "id": "0921799f-065e-43ed-9345-83abb9e63342",
   "metadata": {},
   "outputs": [],
   "source": [
    "X=df.drop('Loan_Status',axis=1)\n",
    "y=df['Loan_Status']"
   ]
  },
  {
   "cell_type": "code",
   "execution_count": 6,
   "id": "33ac7f1a-223c-49c8-af70-4da08e3bf6c8",
   "metadata": {},
   "outputs": [],
   "source": [
    "X_train1,X_test1,y_train1,y_test1=train_test_split(X,y,test_size=0.2,random_state=42)"
   ]
  },
  {
   "cell_type": "code",
   "execution_count": 7,
   "id": "d6c4fbf6-a8eb-40a1-b7a2-0f3d763e9720",
   "metadata": {},
   "outputs": [],
   "source": [
    "# scaling the numerical columns\n",
    "scaler = StandardScaler()\n",
    "numerical_cols = ['ApplicantIncome', 'CoapplicantIncome', 'LoanAmount']\n",
    "X_train1[numerical_cols] = scaler.fit_transform(X_train1[numerical_cols])\n",
    "X_test1[numerical_cols] = scaler.transform(X_test1[numerical_cols])"
   ]
  },
  {
   "cell_type": "code",
   "execution_count": 9,
   "id": "1fbb80e7-6b54-40d0-8d09-57f5cc35c66b",
   "metadata": {},
   "outputs": [
    {
     "name": "stdout",
     "output_type": "stream",
     "text": [
      "Accuracy: 0.7560975609756098\n",
      "Confusion Matrix:\n",
      " [[21 22]\n",
      " [ 8 72]]\n",
      "Classification Report:\n",
      "               precision    recall  f1-score   support\n",
      "\n",
      "           0       0.72      0.49      0.58        43\n",
      "           1       0.77      0.90      0.83        80\n",
      "\n",
      "    accuracy                           0.76       123\n",
      "   macro avg       0.75      0.69      0.71       123\n",
      "weighted avg       0.75      0.76      0.74       123\n",
      "\n"
     ]
    },
    {
     "name": "stderr",
     "output_type": "stream",
     "text": [
      "C:\\Users\\hplap\\.conda\\New folder\\Lib\\site-packages\\xgboost\\core.py:158: UserWarning: [09:30:18] WARNING: C:\\buildkite-agent\\builds\\buildkite-windows-cpu-autoscaling-group-i-0c55ff5f71b100e98-1\\xgboost\\xgboost-ci-windows\\src\\learner.cc:740: \n",
      "Parameters: { \"use_label_encoder\" } are not used.\n",
      "\n",
      "  warnings.warn(smsg, UserWarning)\n"
     ]
    },
    {
     "data": {
      "text/plain": [
       "<sklearn.metrics._plot.confusion_matrix.ConfusionMatrixDisplay at 0x192593ae710>"
      ]
     },
     "execution_count": 9,
     "metadata": {},
     "output_type": "execute_result"
    },
    {
     "data": {
      "image/png": "[encoded data removed]",
      "text/plain": [
       "<Figure size 640x480 with 2 Axes>"
      ]
     },
     "metadata": {},
     "output_type": "display_data"
    }
   ],
   "source": [
    "xgb_model = xgb.XGBClassifier(\n",
    "    objective=\"binary:logistic\", \n",
    "    eval_metric=\"logloss\",        \n",
    "    use_label_encoder=False       \n",
    ")\n",
    "\n",
    "# training the model\n",
    "xgb_model.fit(X_train1,y_train1)\n",
    "# Make predictions\n",
    "y_pred1= xgb_model.predict(X_test1)\n",
    "\n",
    "# Evaluate the model\n",
    "accuracy1 = accuracy_score(y_test1, y_pred1)\n",
    "conf_matrix1 = confusion_matrix(y_test1, y_pred1)\n",
    "classification_rep1 = classification_report(y_test1, y_pred1)\n",
    "\n",
    "print(\"Accuracy:\", accuracy1)\n",
    "print(\"Confusion Matrix:\\n\", conf_matrix1)\n",
    "print(\"Classification Report:\\n\", classification_rep1)\n",
    "\n",
    "# Display the confusion matrix with custom labels\n",
    "disp1 = ConfusionMatrixDisplay(confusion_matrix=conf_matrix1)\n",
    "disp1.plot(cmap=\"Blues\")"
   ]
  },
  {
   "cell_type": "code",
   "execution_count": null,
   "id": "51356398-a6bd-414d-aa2d-411eab2f6b43",
   "metadata": {},
   "outputs": [],
   "source": []
  },
  {
   "cell_type": "code",
   "execution_count": null,
   "id": "a402234e-fc72-40cb-9cc1-0c446c9ce1c8",
   "metadata": {},
   "outputs": [],
   "source": []
  }
 ],
 "metadata": {
  "kernelspec": {
   "display_name": "Python 3 (ipykernel)",
   "language": "python",
   "name": "python3"
  },
  "language_info": {
   "codemirror_mode": {
    "name": "ipython",
    "version": 3
   },
   "file_extension": ".py",
   "mimetype": "text/x-python",
   "name": "python",
   "nbconvert_exporter": "python",
   "pygments_lexer": "ipython3",
   "version": "3.11.7"
  }
 },
 "nbformat": 4,
 "nbformat_minor": 5
}
